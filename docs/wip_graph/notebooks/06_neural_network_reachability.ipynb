{
 "cells": [
  {
   "cell_type": "code",
   "execution_count": 3,
   "metadata": {},
   "outputs": [],
   "source": [
    "# Preamble.\n",
    "import numpy as np\n",
    "import pathlib\n",
    "import pandas as pd\n",
    "import networkx as nx\n",
    "import seaborn as sns\n",
    "from matplotlib import pyplot as plt\n",
    "import time\n",
    "from labm8 import humanize\n",
    "\n",
    "from labm8 import viz\n",
    "\n",
    "from experimental.compilers.reachability import reachability_pb2\n",
    "from experimental.compilers.reachability import control_flow_graph as cfg\n",
    "from experimental.compilers.reachability import control_flow_graph_generator as cfg_generator\n",
    "from experimental.compilers.reachability import cfg_datasets as datasets\n",
    "\n",
    "%matplotlib inline"
   ]
  },
  {
   "cell_type": "code",
   "execution_count": 4,
   "metadata": {},
   "outputs": [
    {
     "name": "stdout",
     "output_type": "stream",
     "text": [
      "linux_and_ocl.pkl  ocl.pkl\t\t    synthetic_linux.pkl  synthetic.pkl\r\n",
      "linux.pkl\t   synthetic_linux_ocl.pkl  synthetic_ocl.pkl\r\n"
     ]
    }
   ],
   "source": [
    "DATASET_DIR = pathlib.Path('/var/phd/shared/docs/wip_graph/datasets/reachability')\n",
    "assert DATASET_DIR.is_dir()\n",
    "!ls {DATASET_DIR}"
   ]
  },
  {
   "cell_type": "code",
   "execution_count": 5,
   "metadata": {},
   "outputs": [
    {
     "data": {
      "text/plain": [
       "PosixPath('/var/phd/shared/docs/wip_graph/datasets/reachability/synthetic_ocl.pkl')"
      ]
     },
     "execution_count": 5,
     "metadata": {},
     "output_type": "execute_result"
    }
   ],
   "source": [
    "(DATASET_DIR / 'synthetic_ocl.pkl')"
   ]
  },
  {
   "cell_type": "code",
   "execution_count": null,
   "metadata": {},
   "outputs": [],
   "source": []
  }
 ],
 "metadata": {
  "kernelspec": {
   "display_name": "Python 3",
   "language": "python",
   "name": "python3"
  },
  "language_info": {
   "codemirror_mode": {
    "name": "ipython",
    "version": 3
   },
   "file_extension": ".py",
   "mimetype": "text/x-python",
   "name": "python",
   "nbconvert_exporter": "python",
   "pygments_lexer": "ipython3",
   "version": "3.6.5"
  }
 },
 "nbformat": 4,
 "nbformat_minor": 2
}
