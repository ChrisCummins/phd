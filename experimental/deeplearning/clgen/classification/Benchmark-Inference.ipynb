{
 "cells": [
  {
   "cell_type": "markdown",
   "metadata": {},
   "source": [
    "# Benchmarking Inference"
   ]
  },
  {
   "cell_type": "code",
   "execution_count": 1,
   "metadata": {
    "collapsed": false
   },
   "outputs": [
    {
     "name": "stderr",
     "output_type": "stream",
     "text": [
      "Using TensorFlow backend.\n"
     ]
    }
   ],
   "source": [
    "# preamble\n",
    "%load_ext autoreload\n",
    "%autoreload 2\n",
    "%matplotlib inline\n",
    "%run lib/preamble.py\n",
    "%run lib/models.py"
   ]
  },
  {
   "cell_type": "code",
   "execution_count": 2,
   "metadata": {
    "collapsed": true
   },
   "outputs": [],
   "source": [
    "baseline = cgo13()\n",
    "model = harry()"
   ]
  },
  {
   "cell_type": "code",
   "execution_count": 3,
   "metadata": {
    "collapsed": false
   },
   "outputs": [
    {
     "name": "stdout",
     "output_type": "stream",
     "text": [
      "model loaded from models/cgo13/amd-B-GreedyAtomizer:1024-204-10-1.model\n",
      "inference rate: 1397759 predictions / second\n"
     ]
    }
   ],
   "source": [
    "baseline_runtimes = benchmark_inference(baseline, \"amd\", \"B\", atomizer=\"GreedyAtomizer\", maxlen=1024, seed=204, n_splits=10, split_i=1)\n",
    "baseline_rate = 1 / baseline_runtimes.mean()\n",
    "print(\"inference rate: {baseline_rate:.0f} predictions / second\".format(**vars()))"
   ]
  },
  {
   "cell_type": "code",
   "execution_count": 4,
   "metadata": {
    "collapsed": false
   },
   "outputs": [
    {
     "name": "stdout",
     "output_type": "stream",
     "text": [
      "model loaded from models/harry/amd-B-GreedyAtomizer:1024-204-10-1.model\n",
      "inference rate: 113 predictions / second\n"
     ]
    }
   ],
   "source": [
    "model_runtimes = benchmark_inference(model, \"amd\", \"B\", atomizer=\"GreedyAtomizer\", maxlen=1024, seed=204, n_splits=10, split_i=1)\n",
    "model_rate = 1 / model_runtimes.mean()\n",
    "print(\"inference rate: {model_rate:.0f} predictions / second\".format(**vars()))"
   ]
  }
 ],
 "metadata": {
  "kernelspec": {
   "display_name": "CLgen",
   "language": "python",
   "name": "clgen"
  },
  "language_info": {
   "codemirror_mode": {
    "name": "ipython",
    "version": 3
   },
   "file_extension": ".py",
   "mimetype": "text/x-python",
   "name": "python",
   "nbconvert_exporter": "python",
   "pygments_lexer": "ipython3",
   "version": "3.5.2"
  }
 },
 "nbformat": 4,
 "nbformat_minor": 2
}
