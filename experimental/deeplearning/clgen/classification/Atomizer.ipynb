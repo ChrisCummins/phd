{
 "cells": [
  {
   "cell_type": "code",
   "execution_count": 17,
   "metadata": {
    "collapsed": true
   },
   "outputs": [],
   "source": [
    "import clgen\n",
    "from clgen.atomizer import GreedyAtomizer"
   ]
  },
  {
   "cell_type": "code",
   "execution_count": 18,
   "metadata": {
    "collapsed": true
   },
   "outputs": [],
   "source": [
    "kernel = \"\"\"\\\n",
    "__kernel void A(__global char* a, short b, int c) {\n",
    "  const int d = get_global_id(0);\n",
    "  a[d] = b;\n",
    "}\"\"\""
   ]
  },
  {
   "cell_type": "code",
   "execution_count": 19,
   "metadata": {
    "collapsed": false
   },
   "outputs": [],
   "source": [
    "a1 = GreedyAtomizer.from_text(kernel)\n",
    "derived_tokens = set(a1.vocab.keys())"
   ]
  },
  {
   "cell_type": "code",
   "execution_count": 24,
   "metadata": {
    "collapsed": true
   },
   "outputs": [],
   "source": [
    "tokens = [\n",
    "    '__kernel',\n",
    "    ' ',\n",
    "    'void',\n",
    "    'A',\n",
    "    '(',\n",
    "    '__global',\n",
    "    'char',\n",
    "    '*',\n",
    "    'a',\n",
    "    ',',\n",
    "    'short',\n",
    "    'b',\n",
    "    'int',\n",
    "    'c',\n",
    "    ')',\n",
    "    '{',\n",
    "    '\\n',\n",
    "    '  ',\n",
    "    'const',\n",
    "    'int',\n",
    "    'd',\n",
    "    '=',\n",
    "    'get_global_id',\n",
    "    '0',\n",
    "    ';',\n",
    "    '[',\n",
    "    ']',\n",
    "    '}'\n",
    "]\n",
    "vocab = dict(zip(tokens, range(len(tokens))))\n",
    "assert set(tokens) == derived_tokens"
   ]
  },
  {
   "cell_type": "code",
   "execution_count": 26,
   "metadata": {
    "collapsed": false
   },
   "outputs": [],
   "source": [
    "a2 = atomizer.GreedyAtomizer(vocab)"
   ]
  },
  {
   "cell_type": "code",
   "execution_count": 37,
   "metadata": {
    "collapsed": false
   },
   "outputs": [
    {
     "name": "stdout",
     "output_type": "stream",
     "text": [
      "00, 01, 02, 01, 03, 04, 05, 01, 06, 07, 01, 08, 09, 01, 10, 01, 11, 09, 01, 19, 01, 13, 14, 01, 15, 16, 17, 18, 01, 19, 01, 20, 01, 21, 01, 22, 04, 23, 14, 24, 16, 17, 08, 25, 20, 26, 01, 21, 01, 11, 24, 16, 27\n"
     ]
    }
   ],
   "source": [
    "print(\", \".join(\"{x:02d}\".format(**vars()) for x in a2.atomize(kernel)))"
   ]
  },
  {
   "cell_type": "code",
   "execution_count": 54,
   "metadata": {
    "collapsed": false
   },
   "outputs": [
    {
     "name": "stdout",
     "output_type": "stream",
     "text": [
      "l l l l l l l l l l l\n",
      "\\texttt{00} & \\texttt{01} & \\texttt{02} & \\texttt{01} & \\texttt{03} & \\texttt{04} & \\texttt{05} & \\texttt{01} & \\texttt{06} & \\texttt{07} & \\texttt{01} \\\\\n",
      "\\texttt{08} & \\texttt{09} & \\texttt{01} & \\texttt{10} & \\texttt{01} & \\texttt{11} & \\texttt{09} & \\texttt{01} & \\texttt{19} & \\texttt{01} & \\texttt{13} \\\\\n",
      "\\texttt{14} & \\texttt{01} & \\texttt{15} & \\texttt{16} & \\texttt{17} & \\texttt{18} & \\texttt{01} & \\texttt{19} & \\texttt{01} & \\texttt{20} & \\texttt{01} \\\\\n",
      "\\texttt{21} & \\texttt{01} & \\texttt{22} & \\texttt{04} & \\texttt{23} & \\texttt{14} & \\texttt{24} & \\texttt{16} & \\texttt{17} & \\texttt{08} & \\texttt{25} \\\\\n",
      "\\texttt{20} & \\texttt{26} & \\texttt{01} & \\texttt{21} & \\texttt{01} & \\texttt{11} & \\texttt{24} & \\texttt{16} & \\texttt{27} \\\\\n"
     ]
    }
   ],
   "source": [
    "width = 11\n",
    "def chunks(l, n):\n",
    "    \"\"\"Yield successive n-sized chunks from l.\"\"\"\n",
    "    for i in range(0, len(l), n):\n",
    "        yield l[i:i + n]\n",
    "\n",
    "x = [\"\\\\texttt{{{x:02d}}}\".format(**vars()) for x in a2.atomize(kernel)]\n",
    "print(\" \".join([\"l\"] * width))\n",
    "for chunk in chunks(x, width):\n",
    "    print(\" & \".join(chunk), \"\\\\\\\\\")"
   ]
  },
  {
   "cell_type": "code",
   "execution_count": 38,
   "metadata": {
    "collapsed": false
   },
   "outputs": [
    {
     "name": "stdout",
     "output_type": "stream",
     "text": [
      "53\n"
     ]
    }
   ],
   "source": [
    "print(len(a2.atomize(kernel)))"
   ]
  },
  {
   "cell_type": "code",
   "execution_count": 48,
   "metadata": {
    "collapsed": false
   },
   "outputs": [
    {
     "name": "stdout",
     "output_type": "stream",
     "text": [
      "\\textbf{i} & \\textbf{v}\\\\\n",
      "\\texttt{00} & \\texttt{'__kernel'} & \\texttt{09} & \\texttt{','} & \\texttt{19} & \\texttt{'int'}\\\\\n",
      "\\texttt{01} & \\texttt{' '} & \\texttt{10} & \\texttt{'short'} & \\texttt{20} & \\texttt{'d'}\\\\\n",
      "\\texttt{02} & \\texttt{'void'} & \\texttt{11} & \\texttt{'b'} & \\texttt{21} & \\texttt{'='}\\\\\n",
      "\\texttt{03} & \\texttt{'A'} & \\texttt{13} & \\texttt{'c'} & \\texttt{22} & \\texttt{'get_global_id'}\\\\\n",
      "\\texttt{04} & \\texttt{'('} & \\texttt{14} & \\texttt{')'} & \\texttt{23} & \\texttt{'0'}\\\\\n",
      "\\texttt{05} & \\texttt{'__global'} & \\texttt{15} & \\texttt{'{'} & \\texttt{24} & \\texttt{';'}\\\\\n",
      "\\texttt{06} & \\texttt{'char'} & \\texttt{16} & \\texttt{'\n",
      "'} & \\texttt{25} & \\texttt{'['}\\\\\n",
      "\\texttt{07} & \\texttt{'*'} & \\texttt{17} & \\texttt{'  '} & \\texttt{26} & \\texttt{']'}\\\\\n",
      "\\texttt{08} & \\texttt{'a'} & \\texttt{18} & \\texttt{'const'} & \\texttt{27} & \\texttt{'}'}\\\\\n"
     ]
    }
   ],
   "source": [
    "print(\"\\\\textbf{i} & \\\\textbf{v}\\\\\\\\\")\n",
    "val = sorted(vocab.items(), key=lambda x: x[1])\n",
    "for c1, c2, c3 in zip(val[:9], val[9:18], val[18:]):\n",
    "    c1_l, c1_r = c1\n",
    "    c2_l, c2_r = c2\n",
    "    c3_l, c3_r = c3\n",
    "    print(\"\\\\texttt{{{c1_r:02d}}} & \\\\texttt{{'{c1_l}'}} & \\\\texttt{{{c2_r:02d}}} & \\\\texttt{{'{c2_l}'}} & \\\\texttt{{{c3_r:02d}}} & \\\\texttt{{'{c3_l}'}}\\\\\\\\\".format(**vars()))"
   ]
  },
  {
   "cell_type": "code",
   "execution_count": null,
   "metadata": {
    "collapsed": true
   },
   "outputs": [],
   "source": []
  }
 ],
 "metadata": {
  "kernelspec": {
   "display_name": "CLgen",
   "language": "python",
   "name": "clgen"
  },
  "language_info": {
   "codemirror_mode": {
    "name": "ipython",
    "version": 3
   },
   "file_extension": ".py",
   "mimetype": "text/x-python",
   "name": "python",
   "nbconvert_exporter": "python",
   "pygments_lexer": "ipython3",
   "version": "3.5.2"
  }
 },
 "nbformat": 4,
 "nbformat_minor": 2
}
