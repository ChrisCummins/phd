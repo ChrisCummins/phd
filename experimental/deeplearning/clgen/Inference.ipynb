{
 "cells": [
  {
   "cell_type": "markdown",
   "metadata": {},
   "source": [
    "# CLgen Sampling\n",
    "-----\n",
    "Dec 2016."
   ]
  },
  {
   "cell_type": "code",
   "execution_count": 1,
   "metadata": {
    "collapsed": false
   },
   "outputs": [],
   "source": [
    "# preamble\n",
    "%reload_ext autoreload\n",
    "%autoreload 2\n",
    "%matplotlib inline\n",
    "\n",
    "import re\n",
    "import pandas as pd\n",
    "import numpy as np\n",
    "import matplotlib.pyplot as plt\n",
    "import seaborn as sns\n",
    "\n",
    "from labm8.py import fs\n",
    "from labm8.py import viz\n",
    "\n",
    "import clgen\n",
    "from clgen import corpus\n",
    "\n",
    "plt.style.use([\"seaborn-white\", \"seaborn-paper\"])"
   ]
  },
  {
   "cell_type": "markdown",
   "metadata": {},
   "source": [
    "## 1. Experimental methodology\n",
    "\n",
    "Experimental platforms: cc[123]. NVIDIA GTX 1080.\n",
    "\n",
    "* Train on GitHub corpus.\n",
    "* For each in top 20 most frequently occuring prototypes:\n",
    "  * Generate 2000 sample with argspec.\n",
    "  * Reject bad samples.\n",
    "\n",
    "Commands:\n",
    "\n",
    "```\n",
    "$ export CUDA_VISIBLE_DEVICES=0\n",
    "$ export MODEL=model-128x3x50\n",
    "$ cd ~/phd/lab/clgen/inference\n",
    "$ python ./inference.py $MODEL.json 2>&1 | tee inference-$MODEL.log\n",
    "```"
   ]
  },
  {
   "cell_type": "markdown",
   "metadata": {},
   "source": [
    "### Corpus"
   ]
  },
  {
   "cell_type": "code",
   "execution_count": 2,
   "metadata": {
    "collapsed": false
   },
   "outputs": [
    {
     "name": "stdout",
     "output_type": "stream",
     "text": [
      "CLgen:       0.2.1\n",
      "Corpus size: 20271852\n",
      "Vocab size:  92\n"
     ]
    }
   ],
   "source": [
    "c = corpus.Corpus.from_json({\"path\": \"~/data/github\"})\n",
    "print(\"CLgen:      \", clgen.version())\n",
    "print(\"Corpus size:\", c.size)\n",
    "print(\"Vocab size: \", c.vocab_size)"
   ]
  },
  {
   "cell_type": "markdown",
   "metadata": {},
   "source": [
    "### Prototypes"
   ]
  },
  {
   "cell_type": "code",
   "execution_count": 3,
   "metadata": {
    "collapsed": false
   },
   "outputs": [
    {
     "name": "stdout",
     "output_type": "stream",
     "text": [
      "#. unique prototypes in corpus: 2186\n",
      "\n",
      "Label\tRatio\tArguments\n",
      "A\t13.22%\t'const int a, __global int* b, __global int* c'\n",
      "B\t9.42%\t''\n",
      "C\t3.48%\t'__global int* a'\n",
      "D\t3.43%\t'__global float* a, __global float* b, __global float* c'\n",
      "E\t2.29%\t'__global int* a, __global int* b'\n",
      "F\t1.97%\t'__global float* a, __global float* b, __global int* c'\n",
      "G\t1.83%\t'__global float* a, __global float* b'\n",
      "H\t1.78%\t'__global float4* a, __global float4* b, __global float4* c, __global float4* d, __global float4* e, float f'\n",
      "I\t1.69%\t'__local int* a'\n",
      "J\t1.28%\t'__global float* a'\n",
      "K\t1.01%\t'__global uint* a, __global uint* b'\n",
      "L\t0.87%\t'__global int* a, __global int* b, __global int* c'\n",
      "M\t0.78%\t'__global float4* q, __global float4* r, __global float4* s, __global float4* t, int u, int e, int v, float f, float g, float h, float i, float j'\n",
      "N\t0.78%\t'__global float4* a, __global float4* b, __global float4* c, __global float4* d, int e, int f, float g, float h'\n",
      "O\t0.69%\t'__global const float* a, __global const float* b, __global float* c, int d'\n",
      "P\t0.59%\t'__global float* a, __global float* b, __global float* c, __global int* d'\n",
      "Q\t0.55%\t'__global float4* a'\n",
      "R\t0.55%\t'int a'\n",
      "S\t0.55%\t'__global int* d'\n",
      "T\t0.50%\t'__global const float* a, __global const float* b, __global float* c'\n"
     ]
    },
    {
     "data": {
      "image/png": "[encoded data removed]",
      "text/plain": [
       "<matplotlib.figure.Figure at 0x7f0e692b10f0>"
      ]
     },
     "metadata": {},
     "output_type": "display_data"
    }
   ],
   "source": [
    "def proto_label(key, value):\n",
    "    # return ', '.join(re.sub('_', '', x) for x in value['argspec'])\n",
    "    return chr(ord('A') - 1 + int(key[0]))\n",
    "\n",
    "p, num_prototypes = corpus.most_common_prototypes(c, 20)\n",
    "prototypes = [x[1] for x in p]\n",
    "print(\"#. unique prototypes in corpus:\", num_prototypes)\n",
    "print()\n",
    "print(\"Label\\tRatio\\tArguments\")\n",
    "d = []\n",
    "for i, row in enumerate(p):\n",
    "    ratio, prototype = row\n",
    "    label = proto_label((i + 1,), {})\n",
    "    d.append({\"prototype\": label, \"ratio\": ratio * 100})\n",
    "    print(\"{label}\\t{ratio:.2f}%\\t'{prototype}'\"\n",
    "          .format(label=label, ratio=ratio * 100, prototype=prototype))\n",
    "\n",
    "sns.barplot(x=\"prototype\", y=\"ratio\", data=pd.DataFrame(d))\n",
    "plt.title(\"Ratio of kernels matching prototype in Corpus\")\n",
    "plt.xlabel(\"Prototype\")\n",
    "plt.ylabel(\"% kernels with prototype\")\n",
    "\n",
    "viz.finalise(figsize=(6, 3))"
   ]
  },
  {
   "cell_type": "markdown",
   "metadata": {},
   "source": [
    "## 2. Experimental results"
   ]
  },
  {
   "cell_type": "code",
   "execution_count": 4,
   "metadata": {
    "collapsed": false
   },
   "outputs": [
    {
     "name": "stdout",
     "output_type": "stream",
     "text": [
      "read 26 data files\n"
     ]
    }
   ],
   "source": [
    "def model_label(key, value):\n",
    "    return '-'.join(key[1:])\n",
    "\n",
    "def parse_file(path):\n",
    "    \"\"\" return prototype index, model size, num layers, and epochs \"\"\"\n",
    "    import re\n",
    "    m = re.search(r\"p([0-9]+)-model-([0-9]+)x([0-9]+)x([0-9]+)\", path)\n",
    "    return m.group(1), m.group(2), m.group(3), m.group(4) \n",
    "\n",
    "data_files = [\"inference/\" + x for x in fs.ls(\"inference\")\n",
    "              if x.startswith(\"inference-p\") and x.endswith(\".json\")]\n",
    "data = dict((parse_file(x), clgen.load_json_file(x)) for x in data_files)\n",
    "sorted_keys = sorted(data.keys(), key=lambda x: [int(y) for y in x])\n",
    "print(\"read {} data files\".format(len(data)))"
   ]
  },
  {
   "cell_type": "markdown",
   "metadata": {},
   "source": [
    "## 3. Evaluation\n",
    "\n",
    "### Ability to generate kernels matching prototype"
   ]
  },
  {
   "cell_type": "code",
   "execution_count": 5,
   "metadata": {
    "collapsed": false
   },
   "outputs": [
    {
     "data": {
      "image/png": "[encoded data removed]",
      "text/plain": [
       "<matplotlib.figure.Figure at 0x7f0e692b19b0>"
      ]
     },
     "metadata": {},
     "output_type": "display_data"
    }
   ],
   "source": [
    "ax = plt.subplot(1, 2, 1)\n",
    "d = pd.DataFrame([{\n",
    "    \"prototype\": proto_label(x, data[x]),\n",
    "    \"efficiency\": (data[x][\"good_charcount\"] / data[x][\"total_charcount\"]) * 100,\n",
    "    \"model\": model_label(x, data[x])\n",
    "} for x in sorted_keys])\n",
    "sns.barplot(x=\"prototype\", y=\"efficiency\", hue=\"model\", data=d)\n",
    "plt.title(\"Character Efficiency (higher is better)\")\n",
    "plt.xlabel(\"Prototype\")\n",
    "plt.ylabel(\"% good chars\")\n",
    "ax.get_legend().set_title(\"\")  # no legend title\n",
    "ax.get_legend().draw_frame(True)\n",
    "\n",
    "ax = plt.subplot(1, 2, 2)\n",
    "d = pd.DataFrame([{\n",
    "    \"prototype\": proto_label(x, data[x]),\n",
    "    \"efficiency\": (data[x][\"num_good_kernels\"] / data[x][\"num_kernels\"]) * 100,\n",
    "    \"model\": model_label(x, data[x])\n",
    "} for x in sorted_keys])\n",
    "sns.barplot(x=\"prototype\", y=\"efficiency\", hue=\"model\", data=d)\n",
    "plt.title(\"Sample Efficiency (higher is better)\")\n",
    "plt.xlabel(\"Prototype\")\n",
    "plt.ylabel(\"% good samples\")\n",
    "ax.get_legend().set_title(\"\")  # no legend title\n",
    "ax.get_legend().draw_frame(True)\n",
    "\n",
    "viz.finalise(figsize=(9, 3))"
   ]
  },
  {
   "cell_type": "markdown",
   "metadata": {
    "collapsed": true
   },
   "source": [
    "### Sample size"
   ]
  },
  {
   "cell_type": "code",
   "execution_count": 6,
   "metadata": {
    "collapsed": true
   },
   "outputs": [],
   "source": [
    "# TODO:"
   ]
  },
  {
   "cell_type": "markdown",
   "metadata": {},
   "source": [
    "# 4. Conclusion\n",
    "\n",
    "Sample efficiency varies greatly with different kernel prototypes. Sample efficiency is not proportional to the frequency of a prototype in the training dataset."
   ]
  }
 ],
 "metadata": {
  "kernelspec": {
   "display_name": "CLgen",
   "language": "python",
   "name": "clgen"
  },
  "language_info": {
   "codemirror_mode": {
    "name": "ipython",
    "version": 3
   },
   "file_extension": ".py",
   "mimetype": "text/x-python",
   "name": "python",
   "nbconvert_exporter": "python",
   "pygments_lexer": "ipython3",
   "version": "3.5.2"
  }
 },
 "nbformat": 4,
 "nbformat_minor": 1
}
