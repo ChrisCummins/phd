{
 "cells": [
  {
   "cell_type": "markdown",
   "metadata": {},
   "source": [
    "# Comparison of Static Grewe et. al Feature Values\n",
    "\n",
    "Comparison of feature distributions of **benchmarks** (the GPGPU benchmarks used in CGO'17), **clgen**, and **github** (at subset of the training corpus that we can extract features from).\n",
    "\n",
    "Histograms showing on the left the raw values, on the right the log+1 transformed values."
   ]
  },
  {
   "cell_type": "code",
   "execution_count": 1,
   "metadata": {},
   "outputs": [],
   "source": [
    "from absl import flags\n",
    "import seaborn as sns\n",
    "import numpy as np\n",
    "import pandas as pd\n",
    "from matplotlib import pyplot as plt\n",
    "import sqlalchemy as sql\n",
    "from labm8 import viz\n",
    "from experimental.deeplearning.clgen.closeness_to_grewe_features import grewe_features_db\n",
    "\n",
    "FLAGS = flags.FLAGS(['argv0'])\n",
    "\n",
    "db = grewe_features_db.Database('file:///var/phd/db/cc1.mysql?grewe_kernels?charset=utf8')"
   ]
  },
  {
   "cell_type": "markdown",
   "metadata": {},
   "source": [
    "## Combined Features (except dynamic values)\n",
    "\n",
    "We exclude dynamic values since we can set them arbitrarily, ensuring we could match any distribution."
   ]
  },
  {
   "cell_type": "code",
   "execution_count": 2,
   "metadata": {},
   "outputs": [
    {
     "ename": "NameError",
     "evalue": "name 'Distplot' is not defined",
     "output_type": "error",
     "traceback": [
      "\u001b[0;31m---------------------------------------------------------------------------\u001b[0m",
      "\u001b[0;31mNameError\u001b[0m                                 Traceback (most recent call last)",
      "\u001b[0;32m<ipython-input-2-4e87f873e318>\u001b[0m in \u001b[0;36m<module>\u001b[0;34m()\u001b[0m\n\u001b[1;32m     26\u001b[0m     \u001b[0mfig\u001b[0m \u001b[0;34m=\u001b[0m \u001b[0mplt\u001b[0m\u001b[0;34m.\u001b[0m\u001b[0mfigure\u001b[0m\u001b[0;34m(\u001b[0m\u001b[0;34m)\u001b[0m\u001b[0;34m\u001b[0m\u001b[0m\n\u001b[1;32m     27\u001b[0m     \u001b[0max\u001b[0m \u001b[0;34m=\u001b[0m \u001b[0mfig\u001b[0m\u001b[0;34m.\u001b[0m\u001b[0madd_subplot\u001b[0m\u001b[0;34m(\u001b[0m\u001b[0;36m1\u001b[0m\u001b[0;34m,\u001b[0m \u001b[0;36m2\u001b[0m\u001b[0;34m,\u001b[0m \u001b[0;36m1\u001b[0m\u001b[0;34m)\u001b[0m\u001b[0;34m\u001b[0m\u001b[0m\n\u001b[0;32m---> 28\u001b[0;31m     \u001b[0mDistplot\u001b[0m\u001b[0;34m(\u001b[0m\u001b[0mx\u001b[0m\u001b[0;34m=\u001b[0m\u001b[0mname\u001b[0m\u001b[0;34m,\u001b[0m \u001b[0mgroup\u001b[0m\u001b[0;34m=\u001b[0m\u001b[0;34m'origin'\u001b[0m\u001b[0;34m,\u001b[0m \u001b[0mdata\u001b[0m\u001b[0;34m=\u001b[0m\u001b[0mdf\u001b[0m\u001b[0;34m,\u001b[0m \u001b[0mbins\u001b[0m\u001b[0;34m=\u001b[0m\u001b[0mbins\u001b[0m\u001b[0;34m,\u001b[0m \u001b[0mnorm_hist\u001b[0m\u001b[0;34m=\u001b[0m\u001b[0;32mTrue\u001b[0m\u001b[0;34m,\u001b[0m \u001b[0max\u001b[0m\u001b[0;34m=\u001b[0m\u001b[0max\u001b[0m\u001b[0;34m)\u001b[0m\u001b[0;34m\u001b[0m\u001b[0m\n\u001b[0m\u001b[1;32m     29\u001b[0m     \u001b[0mplt\u001b[0m\u001b[0;34m.\u001b[0m\u001b[0mlegend\u001b[0m\u001b[0;34m(\u001b[0m\u001b[0;34m)\u001b[0m\u001b[0;34m\u001b[0m\u001b[0m\n\u001b[1;32m     30\u001b[0m     \u001b[0mplt\u001b[0m\u001b[0;34m.\u001b[0m\u001b[0mtitle\u001b[0m\u001b[0;34m(\u001b[0m\u001b[0mname\u001b[0m\u001b[0;34m)\u001b[0m\u001b[0;34m\u001b[0m\u001b[0m\n",
      "\u001b[0;31mNameError\u001b[0m: name 'Distplot' is not defined"
     ]
    },
    {
     "data": {
      "image/png": "[encoded data removed]",
      "text/plain": [
       "<Figure size 432x288 with 1 Axes>"
      ]
     },
     "metadata": {},
     "output_type": "display_data"
    }
   ],
   "source": [
    "def CombineOrigins(df):\n",
    "    df['origin'] = [x.split('_')[0] for x in df['origin']]\n",
    "    return df\n",
    "\n",
    "RATIO_VALUES = [\n",
    "    ('F1_compute_mem_sum', grewe_features_db.OpenCLKernelWithRawGreweFeatures.grewe_compute_operation_count + \n",
    "     grewe_features_db.OpenCLKernelWithRawGreweFeatures.grewe_global_memory_access_count),\n",
    "    ('F2_coalesced_mem_ratio', grewe_features_db.OpenCLKernelWithRawGreweFeatures.grewe_coalesced_memory_access_count /\n",
    "                (grewe_features_db.OpenCLKernelWithRawGreweFeatures.grewe_global_memory_access_count + float(1))),\n",
    "    ('F3_local_global_mem_ratio', grewe_features_db.OpenCLKernelWithRawGreweFeatures.grewe_local_memory_access_count /\n",
    "            (grewe_features_db.OpenCLKernelWithRawGreweFeatures.grewe_global_memory_access_count + float(1))),\n",
    "    ('F4_compute_mem_ratio', grewe_features_db.OpenCLKernelWithRawGreweFeatures.grewe_compute_operation_count /\n",
    "                (grewe_features_db.OpenCLKernelWithRawGreweFeatures.grewe_global_memory_access_count + float(1))),\n",
    "]\n",
    "\n",
    "for name, val in RATIO_VALUES:\n",
    "    with db.Session() as s:\n",
    "        df = pd.read_sql(\n",
    "            s.query(val, grewe_features_db.OpenCLKernelWithRawGreweFeatures.origin).statement, s.bind)\n",
    "    df = CombineOrigins(df)\n",
    "    df.columns = [name, 'origin']\n",
    "    df[f'log_{name}'] = np.log1p(df[name])\n",
    "    benchmarks_only = df[df['origin'] == 'benchmarks']\n",
    "    bins = np.linspace(min(df[name]), max(benchmarks_only[name]), 15)\n",
    "    \n",
    "    fig = plt.figure()\n",
    "    ax = fig.add_subplot(1, 2, 1)\n",
    "    Distplot(x=name, group='origin', data=df, bins=bins, norm_hist=True, ax=ax)\n",
    "    plt.legend()\n",
    "    plt.title(name)\n",
    "\n",
    "    ax = fig.add_subplot(1, 2, 2)    \n",
    "    bins = np.linspace(min(df[f'log_{name}']), max(benchmarks_only[f'log_{name}']), 15)\n",
    "    Distplot(x=f'log_{name}', group='origin', data=df, bins=bins, norm_hist=True, ax=ax)\n",
    "    plt.legend()\n",
    "    plt.title(f'log_{name}')\n",
    "    viz.Finalize(figsize=(10, 4))\n",
    "    \n",
    "    print(name)\n",
    "    for group in sorted(set(df['origin'])):\n",
    "        print(f'{group:16s}', SummarizeInts(df[df['origin'] == group][name]))\n",
    "    print()"
   ]
  },
  {
   "cell_type": "markdown",
   "metadata": {},
   "source": [
    "## Raw Feature Values"
   ]
  },
  {
   "cell_type": "code",
   "execution_count": null,
   "metadata": {},
   "outputs": [],
   "source": [
    "RAW_FEATURE_COLUMNS = [\n",
    "    'grewe_compute_operation_count',\n",
    "    'grewe_global_memory_access_count',\n",
    "    'grewe_local_memory_access_count',\n",
    "    'grewe_coalesced_memory_access_count',\n",
    "    'grewe_rational_operation_count',  # This feature was used in our extended feature set.\n",
    "    # 'grewe_atomic_operation_count',  # This feature wasn't used at all.\n",
    "]\n",
    "\n",
    "for feature in RAW_FEATURE_COLUMNS:\n",
    "    with db.Session() as s:\n",
    "        df = pd.read_sql(\n",
    "            s.query(getattr(grewe_features_db.OpenCLKernelWithRawGreweFeatures, feature),\n",
    "                    grewe_features_db.OpenCLKernelWithRawGreweFeatures.origin).statement, s.bind)\n",
    "    df = CombineOrigins(df)\n",
    "    df[f'log_{feature}'] = np.log1p(df[feature])\n",
    "    benchmarks_only = df[df['origin'] == 'benchmarks']\n",
    "    bins = np.linspace(min(df[feature]), max(benchmarks_only[feature]), 15)\n",
    "    \n",
    "    fig = plt.figure()\n",
    "    ax = fig.add_subplot(1, 2, 1)\n",
    "    Distplot(x=feature, group='origin', data=df, bins=bins, norm_hist=True, ax=ax)\n",
    "    plt.legend()\n",
    "    plt.title(feature)\n",
    "\n",
    "    ax = fig.add_subplot(1, 2, 2)    \n",
    "    bins = np.linspace(min(df[f'log_{feature}']), max(benchmarks_only[f'log_{feature}']), 15)\n",
    "    Distplot(x=f'log_{feature}', group='origin', data=df, bins=bins, norm_hist=True, ax=ax)\n",
    "    plt.legend()\n",
    "    plt.title(f'log_{feature}')\n",
    "    viz.Finalize(figsize=(12, 4))\n",
    "    \n",
    "    print(feature)\n",
    "    for group in sorted(set(df['origin'])):\n",
    "        print(f'{group:16s}', SummarizeInts(df[df['origin'] == group][feature]))\n",
    "    print()"
   ]
  }
 ],
 "metadata": {
  "kernelspec": {
   "display_name": "Python 3",
   "language": "python",
   "name": "python3"
  },
  "language_info": {
   "codemirror_mode": {
    "name": "ipython",
    "version": 3
   },
   "file_extension": ".py",
   "mimetype": "text/x-python",
   "name": "python",
   "nbconvert_exporter": "python",
   "pygments_lexer": "ipython3",
   "version": "3.6.5"
  }
 },
 "nbformat": 4,
 "nbformat_minor": 2
}
