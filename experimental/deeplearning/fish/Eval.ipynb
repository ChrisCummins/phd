{
 "cells": [
  {
   "cell_type": "code",
   "execution_count": 7,
   "metadata": {},
   "outputs": [],
   "source": [
    "import pathlib\n",
    "import pickle\n",
    "\n",
    "import matplotlib.pyplot as plt\n",
    "import seaborn as sns\n",
    "import keras\n",
    "from labm8 import humanize\n",
    "import numpy as np\n",
    "from sklearn import metrics\n",
    "\n",
    "from experimental.deeplearning.fish import train_discriminator\n",
    "from experimental.deeplearning.fish.proto import fish_pb2"
   ]
  },
  {
   "cell_type": "code",
   "execution_count": 6,
   "metadata": {},
   "outputs": [
    {
     "ename": "AssertionError",
     "evalue": "",
     "output_type": "error",
     "traceback": [
      "\u001b[0;31m---------------------------------------------------------------------------\u001b[0m",
      "\u001b[0;31mAssertionError\u001b[0m                            Traceback (most recent call last)",
      "\u001b[0;32m<ipython-input-6-a870773d7423>\u001b[0m in \u001b[0;36m<module>\u001b[0;34m()\u001b[0m\n\u001b[1;32m      3\u001b[0m \u001b[0mmodel_path\u001b[0m \u001b[0;34m=\u001b[0m \u001b[0mexperiments_root\u001b[0m \u001b[0;34m/\u001b[0m \u001b[0;34m'compilable_balanced_clipped'\u001b[0m \u001b[0;34m/\u001b[0m \u001b[0;34m'model'\u001b[0m\u001b[0;34m\u001b[0m\u001b[0m\n\u001b[1;32m      4\u001b[0m \u001b[0;32massert\u001b[0m \u001b[0mdataset_root\u001b[0m\u001b[0;34m.\u001b[0m\u001b[0mis_dir\u001b[0m\u001b[0;34m(\u001b[0m\u001b[0;34m)\u001b[0m\u001b[0;34m\u001b[0m\u001b[0m\n\u001b[0;32m----> 5\u001b[0;31m \u001b[0;32massert\u001b[0m \u001b[0mmodel_path\u001b[0m\u001b[0;34m.\u001b[0m\u001b[0mis_dir\u001b[0m\u001b[0;34m(\u001b[0m\u001b[0;34m)\u001b[0m\u001b[0;34m\u001b[0m\u001b[0m\n\u001b[0m",
      "\u001b[0;31mAssertionError\u001b[0m: "
     ]
    }
   ],
   "source": [
    "experiments_root = pathlib.Path('~/data/experimental/deeplearning/fish/').expanduser()\n",
    "dataset_root = experiments_root / 'compilable_balanced_clipped' / 'dataset'\n",
    "model_path = experiments_root / 'compilable_balanced_clipped' / 'model'\n",
    "assert dataset_root.is_dir()\n",
    "assert model_path.is_dir()"
   ]
  },
  {
   "cell_type": "code",
   "execution_count": 3,
   "metadata": {},
   "outputs": [
    {
     "data": {
      "text/plain": [
       "AsciiCharacterAtomizer[94 chars]"
      ]
     },
     "execution_count": 3,
     "metadata": {},
     "output_type": "execute_result"
    }
   ],
   "source": [
    "with open(model_path / 'atomizer.pkl', 'rb') as f:\n",
    "    atomizer = pickle.load(f)\n",
    "atomizer"
   ]
  },
  {
   "cell_type": "code",
   "execution_count": 4,
   "metadata": {},
   "outputs": [
    {
     "name": "stdout",
     "output_type": "stream",
     "text": [
      "0 checkpoint files\n"
     ]
    }
   ],
   "source": [
    "weights = sorted([p for p in model_path.iterdir() if p.name.startswith('weights')])\n",
    "print(len(weights), 'checkpoint files')"
   ]
  },
  {
   "cell_type": "code",
   "execution_count": 5,
   "metadata": {},
   "outputs": [
    {
     "name": "stdout",
     "output_type": "stream",
     "text": [
      "_________________________________________________________________\n",
      "Layer (type)                 Output Shape              Param #   \n",
      "=================================================================\n",
      "code_in (InputLayer)         (None, 4096)              0         \n",
      "_________________________________________________________________\n",
      "embedding (Embedding)        (None, 4096, 64)          6080      \n",
      "_________________________________________________________________\n",
      "lstm_1 (LSTM)                (None, 4096, 64)          33024     \n",
      "_________________________________________________________________\n",
      "lstm_2 (LSTM)                (None, 4096, 64)          33024     \n",
      "_________________________________________________________________\n",
      "lstm_3 (LSTM)                (None, 64)                33024     \n",
      "_________________________________________________________________\n",
      "dense_1 (Dense)              (None, 32)                2080      \n",
      "_________________________________________________________________\n",
      "dense_2 (Dense)              (None, 2)                 66        \n",
      "=================================================================\n",
      "Total params: 107,298\n",
      "Trainable params: 107,298\n",
      "Non-trainable params: 0\n",
      "_________________________________________________________________\n"
     ]
    }
   ],
   "source": [
    "model = keras.models.load_model(weights[-1])\n",
    "model.summary()"
   ]
  },
  {
   "cell_type": "code",
   "execution_count": 6,
   "metadata": {},
   "outputs": [
    {
     "name": "stdout",
     "output_type": "stream",
     "text": [
      "Number of testing examples: 622\n"
     ]
    }
   ],
   "source": [
    "testing_protos = train_discriminator.LoadPositiveNegativeProtos(\n",
    "      dataset_root / 'testing')\n",
    "print('Number of testing examples:',\n",
    "      humanize.Commas(len(testing_protos.positive) +\n",
    "                        len(testing_protos.negative)))"
   ]
  },
  {
   "cell_type": "code",
   "execution_count": 9,
   "metadata": {},
   "outputs": [],
   "source": [
    "sequence_length = 5000\n",
    "x, y = train_discriminator.ProtosToModelData(testing_protos, sequence_length, atomizer)\n",
    "protos = testing_protos.positive + testing_protos.negative"
   ]
  },
  {
   "cell_type": "code",
   "execution_count": 10,
   "metadata": {},
   "outputs": [
    {
     "name": "stdout",
     "output_type": "stream",
     "text": [
      "312 / 622 correct. Accuracy: 50.16%\n"
     ]
    }
   ],
   "source": [
    "pred_y = model.predict(x)\n",
    "pred_y_binary = [np.argmax(y) for y in pred_y]\n",
    "num_correct = sum(1 if y_ == py_ else 0 for y_, py_ in zip(y, pred_y_binary))\n",
    "print(num_correct, '/', len(y), 'correct. Accuracy: {:.2%}'.format(num_correct / len(y)))"
   ]
  },
  {
   "cell_type": "code",
   "execution_count": 11,
   "metadata": {},
   "outputs": [
    {
     "data": {
      "text/plain": [
       "array([[  1, 310],\n",
       "       [  0, 311]])"
      ]
     },
     "execution_count": 11,
     "metadata": {},
     "output_type": "execute_result"
    }
   ],
   "source": [
    "metrics.confusion_matrix(y, pred_y_binary)"
   ]
  },
  {
   "cell_type": "code",
   "execution_count": 20,
   "metadata": {},
   "outputs": [
    {
     "name": "stderr",
     "output_type": "stream",
     "text": [
      "/home/linuxbrew/.linuxbrew/opt/python/lib/python3.6/site-packages/matplotlib/axes/_axes.py:6444: UserWarning: The 'normed' kwarg is deprecated, and has been replaced by the 'density' kwarg.\n",
      "  warnings.warn(\"The 'normed' kwarg is deprecated, and has been \"\n"
     ]
    },
    {
     "data": {
      "text/plain": [
       "<matplotlib.legend.Legend at 0x7f106aa70128>"
      ]
     },
     "execution_count": 20,
     "metadata": {},
     "output_type": "execute_result"
    },
    {
     "data": {
      "image/png": "[encoded data removed]",
      "text/plain": [
       "<Figure size 432x288 with 1 Axes>"
      ]
     },
     "metadata": {},
     "output_type": "display_data"
    }
   ],
   "source": [
    "positive_lengths = np.array([min(len(p.src), sequence_length) for p in testing_protos.positive])\n",
    "negative_lengths = np.array([min(len(p.src), sequence_length) for p in testing_protos.negative])\n",
    "sns.distplot(positive_lengths, bins=np.linspace(0, sequence_length, 20), kde=False, label='Assertion')\n",
    "sns.distplot(negative_lengths, bins=np.linspace(0, sequence_length, 20), kde=False, label='No assertion')\n",
    "plt.xlabel('Num characters')\n",
    "plt.ylabel('Num programs')\n",
    "plt.legend()"
   ]
  },
  {
   "cell_type": "code",
   "execution_count": 16,
   "metadata": {},
   "outputs": [
    {
     "name": "stdout",
     "output_type": "stream",
     "text": [
      "0 false negatives, 310 false positives\n"
     ]
    }
   ],
   "source": [
    "false_negatives, false_positives = [], []\n",
    "for proto, y_, pred_y_binary_ in zip(protos, y, pred_y_binary):\n",
    "    if y_ and not pred_y_binary_:\n",
    "        false_negatives.append(proto)\n",
    "    elif not y_ and pred_y_binary_:\n",
    "        false_positives.append(proto)\n",
    "print(len(false_negatives), 'false negatives,', len(false_positives), 'false positives')"
   ]
  },
  {
   "cell_type": "code",
   "execution_count": 17,
   "metadata": {},
   "outputs": [
    {
     "name": "stderr",
     "output_type": "stream",
     "text": [
      "/home/linuxbrew/.linuxbrew/opt/python/lib/python3.6/site-packages/seaborn/distributions.py:195: RuntimeWarning: Mean of empty slice.\n",
      "  line, = ax.plot(a.mean(), 0)\n",
      "/home/cec/phd/bazel-bin/experimental/deeplearning/fish/notebooks.runfiles/pypi__numpy_1_14_3/numpy/core/_methods.py:80: RuntimeWarning: invalid value encountered in double_scalars\n",
      "  ret = ret.dtype.type(ret / rcount)\n",
      "/home/linuxbrew/.linuxbrew/opt/python/lib/python3.6/site-packages/matplotlib/axes/_axes.py:6444: UserWarning: The 'normed' kwarg is deprecated, and has been replaced by the 'density' kwarg.\n",
      "  warnings.warn(\"The 'normed' kwarg is deprecated, and has been \"\n"
     ]
    },
    {
     "data": {
      "text/plain": [
       "<matplotlib.legend.Legend at 0x7f12bc19d898>"
      ]
     },
     "execution_count": 17,
     "metadata": {},
     "output_type": "execute_result"
    },
    {
     "data": {
      "image/png": "[encoded data removed]",
      "text/plain": [
       "<Figure size 432x288 with 1 Axes>"
      ]
     },
     "metadata": {},
     "output_type": "display_data"
    }
   ],
   "source": [
    "sns.distplot([len(p.src) for p in false_negatives], bins=np.linspace(0, sequence_length, 20), kde=False, label='False negatives')\n",
    "sns.distplot([len(p.src) for p in false_positives], bins=np.linspace(0, sequence_length, 20), kde=False, label='False positives')\n",
    "plt.xlabel('Num characters')\n",
    "plt.ylabel('Num programs')\n",
    "plt.legend()"
   ]
  },
  {
   "cell_type": "code",
   "execution_count": null,
   "metadata": {},
   "outputs": [],
   "source": []
  }
 ],
 "metadata": {
  "kernelspec": {
   "display_name": "Python 3",
   "language": "python",
   "name": "python3"
  },
  "language_info": {
   "codemirror_mode": {
    "name": "ipython",
    "version": 3
   },
   "file_extension": ".py",
   "mimetype": "text/x-python",
   "name": "python",
   "nbconvert_exporter": "python",
   "pygments_lexer": "ipython3",
   "version": "3.6.5"
  }
 },
 "nbformat": 4,
 "nbformat_minor": 2
}
