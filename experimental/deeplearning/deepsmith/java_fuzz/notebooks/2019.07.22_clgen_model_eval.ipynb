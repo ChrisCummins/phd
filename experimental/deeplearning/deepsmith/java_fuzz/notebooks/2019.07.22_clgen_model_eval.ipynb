{
 "cells": [
  {
   "cell_type": "markdown",
   "metadata": {},
   "source": [
    "# Java CLgen Model"
   ]
  },
  {
   "cell_type": "code",
   "execution_count": 10,
   "metadata": {},
   "outputs": [],
   "source": [
    "## Imports\n",
    "\n",
    "import collections\n",
    "import pathlib\n",
    "import random\n",
    "import shutil\n",
    "import typing\n",
    "import math\n",
    "\n",
    "import matplotlib\n",
    "import numpy as np\n",
    "import pandas as pd\n",
    "import scipy\n",
    "import seaborn as sns\n",
    "import sqlalchemy as sql\n",
    "\n",
    "from matplotlib import pyplot as plt\n",
    "\n",
    "from labm8 import app\n",
    "from labm8 import prof\n",
    "from labm8 import sqlutil\n",
    "from labm8 import labdate\n",
    "from labm8 import pbutil\n",
    "from labm8 import viz\n",
    "from labm8 import labtypes\n",
    "from labm8 import humanize\n",
    "\n",
    "from deeplearning.clgen import clgen\n",
    "from deeplearning.clgen import samples_database\n",
    "from deeplearning.clgen import samplers\n",
    "from deeplearning.clgen import sample_observers\n",
    "from deeplearning.clgen.proto import model_pb2\n",
    "from deeplearning.clgen.proto import sampler_pb2\n",
    "from datasets.github.scrape_repos import contentfiles\n",
    "from deeplearning.clgen.corpuses import preprocessed\n",
    "from deeplearning.clgen.corpuses import encoded\n",
    "from experimental.deeplearning.deepsmith.java_fuzz import sample_java_model\n",
    "\n",
    "FLAGS = app.FLAGS(['argv0'])\n",
    "%matplotlib inline"
   ]
  },
  {
   "cell_type": "code",
   "execution_count": 11,
   "metadata": {},
   "outputs": [],
   "source": [
    "# Variables.\n",
    "\n",
    "db_url = sqlutil.ResolveUrl('file:///var/phd/db/cc1.mysql')\n",
    "\n",
    "enc_db = f'{db_url}github_java_methods_enc_2019.07.02?charset=utf8'\n",
    "samples_db = f'{db_url}java_model_samples_2019.07.22?charset=utf8'\n",
    "clgen_working_dir = '/var/phd/experimental/deeplearning/deepsmith/java_fuzz/clgen_cache'\n",
    "\n",
    "enc_db = encoded.EncodedContentFiles(enc_db, must_exist=True)\n",
    "samples_db = samples_database.SamplesDatabase(samples_db, must_exist=True)\n",
    "working_dir = pathlib.Path(clgen_working_dir)"
   ]
  },
  {
   "cell_type": "code",
   "execution_count": 12,
   "metadata": {},
   "outputs": [
    {
     "name": "stdout",
     "output_type": "stream",
     "text": [
      "query in 929ms\n",
      "460,072 encoded methods in training corpus\n"
     ]
    }
   ],
   "source": [
    "with enc_db.Session() as s, prof.ProfileToStdout('query'):\n",
    "    enc_methods_count = s.query(encoded.EncodedContentFile).count()\n",
    "\n",
    "print(f'{humanize.Commas(enc_methods_count)} encoded methods in training corpus')"
   ]
  },
  {
   "cell_type": "code",
   "execution_count": 13,
   "metadata": {},
   "outputs": [
    {
     "name": "stdout",
     "output_type": "stream",
     "text": [
      "model[8d608cd56ed1e45386fc3a819f703473648442d8]\n",
      "Is model trained? True\n"
     ]
    }
   ],
   "source": [
    "instance = sample_java_model.MakeClgenInstance(\n",
    "    working_dir=working_dir,\n",
    "    encoded_db=enc_db,\n",
    "    num_training_epochs=50,\n",
    "    seed_text='public ',\n",
    "    neurons_per_layer=1024,\n",
    ")\n",
    "with instance.Session() as session:\n",
    "    print(session.model)\n",
    "    print(f'Is model trained? {session.model.is_trained}')\n",
    "    telemetry = session.model.TrainingTelemetry()"
   ]
  },
  {
   "cell_type": "markdown",
   "metadata": {},
   "source": [
    "## Model Training Stats"
   ]
  },
  {
   "cell_type": "code",
   "execution_count": 14,
   "metadata": {},
   "outputs": [
    {
     "data": {
      "text/html": [
       "<div>\n",
       "<style scoped>\n",
       "    .dataframe tbody tr th:only-of-type {\n",
       "        vertical-align: middle;\n",
       "    }\n",
       "\n",
       "    .dataframe tbody tr th {\n",
       "        vertical-align: top;\n",
       "    }\n",
       "\n",
       "    .dataframe thead th {\n",
       "        text-align: right;\n",
       "    }\n",
       "</style>\n",
       "<table border=\"1\" class=\"dataframe\">\n",
       "  <thead>\n",
       "    <tr style=\"text-align: right;\">\n",
       "      <th></th>\n",
       "      <th></th>\n",
       "      <th></th>\n",
       "    </tr>\n",
       "  </thead>\n",
       "  <tbody>\n",
       "    <tr>\n",
       "      <th>0</th>\n",
       "      <td>Total training time</td>\n",
       "      <td>4d 8h 34m 19s 805ms</td>\n",
       "    </tr>\n",
       "    <tr>\n",
       "      <th>1</th>\n",
       "      <td>Time per epoch</td>\n",
       "      <td>2h 5m 29s 196ms</td>\n",
       "    </tr>\n",
       "    <tr>\n",
       "      <th>2</th>\n",
       "      <td>Diff between init and final loss</td>\n",
       "      <td>-0.021118</td>\n",
       "    </tr>\n",
       "    <tr>\n",
       "      <th>3</th>\n",
       "      <td>Max loss at epoch</td>\n",
       "      <td>28</td>\n",
       "    </tr>\n",
       "    <tr>\n",
       "      <th>4</th>\n",
       "      <td>Max loss</td>\n",
       "      <td>110.503</td>\n",
       "    </tr>\n",
       "    <tr>\n",
       "      <th>5</th>\n",
       "      <td>Min loss at epoch</td>\n",
       "      <td>7</td>\n",
       "    </tr>\n",
       "    <tr>\n",
       "      <th>6</th>\n",
       "      <td>Min loss</td>\n",
       "      <td>0.43866</td>\n",
       "    </tr>\n",
       "  </tbody>\n",
       "</table>\n",
       "</div>"
      ],
      "text/plain": [
       "                                                        \n",
       "0               Total training time  4d 8h 34m 19s 805ms\n",
       "1                    Time per epoch      2h 5m 29s 196ms\n",
       "2  Diff between init and final loss            -0.021118\n",
       "3                 Max loss at epoch                   28\n",
       "4                          Max loss              110.503\n",
       "5                 Min loss at epoch                    7\n",
       "6                          Min loss              0.43866"
      ]
     },
     "execution_count": 14,
     "metadata": {},
     "output_type": "execute_result"
    }
   ],
   "source": [
    "training_time = sum([t.epoch_wall_time_ms for t in telemetry])\n",
    "df = pd.DataFrame([\n",
    "    ('Total training time', humanize.Duration(training_time / 1e3)),\n",
    "    ('Time per epoch', humanize.Duration(training_time / len(telemetry) / 1e3)),\n",
    "    ('Diff between init and final loss', telemetry[0].loss - telemetry[-1].loss),\n",
    "    ('Max loss at epoch', telemetry[[t.loss for t in telemetry].index(max(t.loss for t in telemetry))].epoch_num),\n",
    "    ('Max loss', max(t.loss for t in telemetry)),\n",
    "    ('Min loss at epoch', telemetry[[t.loss for t in telemetry].index(min(t.loss for t in telemetry))].epoch_num), \n",
    "    ('Min loss', min(t.loss for t in telemetry)),\n",
    "], columns=['', ''])\n",
    "df"
   ]
  },
  {
   "cell_type": "code",
   "execution_count": 121,
   "metadata": {},
   "outputs": [
    {
     "data": {
      "image/png": "[encoded data removed]",
      "text/plain": [
       "<Figure size 432x288 with 1 Axes>"
      ]
     },
     "metadata": {},
     "output_type": "display_data"
    }
   ],
   "source": [
    "# Plot training loss over time.\n",
    "plt.plot([t.timestamp_utc_epoch_ms for t in telemetry],\n",
    "         [t.loss for t in telemetry])\n",
    "plt.ylabel('Loss')\n",
    "plt.xlabel('Wall time')\n",
    "plt.ylim((0, 1))\n",
    "viz.FormatXLabelsAsTimestamps('%Y-%m-%d %H:%M:%S')\n",
    "viz.RotateXLabels(45)"
   ]
  },
  {
   "cell_type": "markdown",
   "metadata": {},
   "source": [
    "### Investigating Training data"
   ]
  },
  {
   "cell_type": "code",
   "execution_count": null,
   "metadata": {},
   "outputs": [],
   "source": [
    "# Get the atomizer\n",
    "\n",
    "with instance.Session() as s:\n",
    "    s.model.corpus.Create()\n",
    "    atomizer = s.model.corpus.atomizer\n",
    "atomizer"
   ]
  },
  {
   "cell_type": "code",
   "execution_count": 86,
   "metadata": {},
   "outputs": [
    {
     "name": "stdout",
     "output_type": "stream",
     "text": [
      "public static int fn_B(String a,String b){\n",
      "  String[] c=a.split(\"\\\\.\");\n",
      "  String[] d=b.split(\"\\\\.\");\n",
      "  int e=0;\n",
      "  while (e < c.length && e < d.length && c[e].equals(d[e])) {\n",
      "    e++;\n",
      "  }\n",
      "  if (e < c.length && e < d.length) {\n",
      "    int f=Integer.valueOf(c[e]).compareTo(Integer.valueOf(d[e]));\n",
      "    return Integer.signum(f);\n",
      "  }\n",
      "  return Integer.signum(c.length - d.length);\n",
      "}\n",
      "\n"
     ]
    }
   ],
   "source": [
    "# Print a random method.\n",
    "\n",
    "def Decode(encoded_method, atomizer):\n",
    "    return atomizer.DeatomizeIndices(encoded_method.indices_array)\n",
    "\n",
    "with enc_db.Session() as s:\n",
    "    e = s.query(encoded.EncodedContentFile).order_by(enc_db.Random()).first()# .order_by(enc_db.Random).one()\n",
    "    print(Decode(e, atomizer))"
   ]
  },
  {
   "cell_type": "markdown",
   "metadata": {},
   "source": [
    "### Make a sample with this model"
   ]
  },
  {
   "cell_type": "code",
   "execution_count": 124,
   "metadata": {},
   "outputs": [
    {
     "name": "stdout",
     "output_type": "stream",
     "text": [
      "public BigInteger b=new BigInteger(1589);\n",
      "}\n"
     ]
    }
   ],
   "source": [
    "seed = 'public static int fn_A(int a, int b){\\n\\t'\n",
    "\n",
    "def SampleOneBatch(instance):\n",
    "    sampler_config = sampler_pb2.Sampler()\n",
    "    sampler_config.CopyFrom(instance.sampler.config)\n",
    "    sampler_config.start_text = seed\n",
    "    sampler = samplers.Sampler(sampler_config)\n",
    "    \n",
    "    observer = sample_observers.InMemorySampleSaver()\n",
    "    with instance.Session() as s:\n",
    "        instance.Sample([\n",
    "            sample_observers.MaxSampleCountObserver(1),\n",
    "            observer\n",
    "        ])\n",
    "    return observer.samples\n",
    "\n",
    "samples = SampleOneBatch(instance)\n",
    "print(samples[0].text)"
   ]
  },
  {
   "cell_type": "markdown",
   "metadata": {},
   "source": [
    "### Cached Samples"
   ]
  },
  {
   "cell_type": "code",
   "execution_count": null,
   "metadata": {},
   "outputs": [],
   "source": []
  }
 ],
 "metadata": {
  "kernelspec": {
   "display_name": "Python 3",
   "language": "python",
   "name": "python3"
  },
  "language_info": {
   "codemirror_mode": {
    "name": "ipython",
    "version": 3
   },
   "file_extension": ".py",
   "mimetype": "text/x-python",
   "name": "python",
   "nbconvert_exporter": "python",
   "pygments_lexer": "ipython3",
   "version": "3.6.5"
  }
 },
 "nbformat": 4,
 "nbformat_minor": 2
}
