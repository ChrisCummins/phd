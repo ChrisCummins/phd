{
 "cells": [
  {
   "cell_type": "markdown",
   "metadata": {},
   "source": [
    "# Discrete Probabilities"
   ]
  },
  {
   "cell_type": "markdown",
   "metadata": {},
   "source": [
    "## Data"
   ]
  },
  {
   "cell_type": "code",
   "execution_count": 8,
   "metadata": {},
   "outputs": [
    {
     "data": {
      "text/html": [
       "<div>\n",
       "<style scoped>\n",
       "    .dataframe tbody tr th:only-of-type {\n",
       "        vertical-align: middle;\n",
       "    }\n",
       "\n",
       "    .dataframe tbody tr th {\n",
       "        vertical-align: top;\n",
       "    }\n",
       "\n",
       "    .dataframe thead th {\n",
       "        text-align: right;\n",
       "    }\n",
       "</style>\n",
       "<table border=\"1\" class=\"dataframe\">\n",
       "  <thead>\n",
       "    <tr style=\"text-align: right;\">\n",
       "      <th></th>\n",
       "      <th>Outlook</th>\n",
       "      <th>Temperature</th>\n",
       "      <th>Humidity</th>\n",
       "      <th>Wind</th>\n",
       "      <th>Baseball</th>\n",
       "    </tr>\n",
       "    <tr>\n",
       "      <th>Day</th>\n",
       "      <th></th>\n",
       "      <th></th>\n",
       "      <th></th>\n",
       "      <th></th>\n",
       "      <th></th>\n",
       "    </tr>\n",
       "  </thead>\n",
       "  <tbody>\n",
       "    <tr>\n",
       "      <th>D1</th>\n",
       "      <td>Sunny</td>\n",
       "      <td>Hot</td>\n",
       "      <td>High</td>\n",
       "      <td>Weak</td>\n",
       "      <td>No</td>\n",
       "    </tr>\n",
       "    <tr>\n",
       "      <th>D2</th>\n",
       "      <td>Sunny</td>\n",
       "      <td>Hot</td>\n",
       "      <td>High</td>\n",
       "      <td>Strong</td>\n",
       "      <td>No</td>\n",
       "    </tr>\n",
       "    <tr>\n",
       "      <th>D3</th>\n",
       "      <td>Overcast</td>\n",
       "      <td>Hot</td>\n",
       "      <td>High</td>\n",
       "      <td>Weak</td>\n",
       "      <td>Yes</td>\n",
       "    </tr>\n",
       "    <tr>\n",
       "      <th>D4</th>\n",
       "      <td>Rain</td>\n",
       "      <td>Mild</td>\n",
       "      <td>High</td>\n",
       "      <td>Weak</td>\n",
       "      <td>Yes</td>\n",
       "    </tr>\n",
       "    <tr>\n",
       "      <th>D5</th>\n",
       "      <td>Rain</td>\n",
       "      <td>Cool</td>\n",
       "      <td>Normal</td>\n",
       "      <td>Weak</td>\n",
       "      <td>Yes</td>\n",
       "    </tr>\n",
       "    <tr>\n",
       "      <th>D6</th>\n",
       "      <td>Rain</td>\n",
       "      <td>Cool</td>\n",
       "      <td>Normal</td>\n",
       "      <td>Strong</td>\n",
       "      <td>No</td>\n",
       "    </tr>\n",
       "    <tr>\n",
       "      <th>D7</th>\n",
       "      <td>Overcast</td>\n",
       "      <td>Cool</td>\n",
       "      <td>Normal</td>\n",
       "      <td>Strong</td>\n",
       "      <td>Yes</td>\n",
       "    </tr>\n",
       "    <tr>\n",
       "      <th>D8</th>\n",
       "      <td>Sunny</td>\n",
       "      <td>Mild</td>\n",
       "      <td>High</td>\n",
       "      <td>Weak</td>\n",
       "      <td>No</td>\n",
       "    </tr>\n",
       "    <tr>\n",
       "      <th>D9</th>\n",
       "      <td>Sunny</td>\n",
       "      <td>Cool</td>\n",
       "      <td>Normal</td>\n",
       "      <td>Weak</td>\n",
       "      <td>Yes</td>\n",
       "    </tr>\n",
       "    <tr>\n",
       "      <th>D10</th>\n",
       "      <td>Rain</td>\n",
       "      <td>Mild</td>\n",
       "      <td>Normal</td>\n",
       "      <td>Weak</td>\n",
       "      <td>Yes</td>\n",
       "    </tr>\n",
       "    <tr>\n",
       "      <th>D11</th>\n",
       "      <td>Sunny</td>\n",
       "      <td>Mild</td>\n",
       "      <td>Normal</td>\n",
       "      <td>Strong</td>\n",
       "      <td>Yes</td>\n",
       "    </tr>\n",
       "    <tr>\n",
       "      <th>D12</th>\n",
       "      <td>Overcast</td>\n",
       "      <td>Mild</td>\n",
       "      <td>High</td>\n",
       "      <td>Strong</td>\n",
       "      <td>Yes</td>\n",
       "    </tr>\n",
       "    <tr>\n",
       "      <th>D13</th>\n",
       "      <td>Overcast</td>\n",
       "      <td>Hot</td>\n",
       "      <td>Normal</td>\n",
       "      <td>Weak</td>\n",
       "      <td>Yes</td>\n",
       "    </tr>\n",
       "    <tr>\n",
       "      <th>D14</th>\n",
       "      <td>Rain</td>\n",
       "      <td>Mild</td>\n",
       "      <td>High</td>\n",
       "      <td>Strong</td>\n",
       "      <td>No</td>\n",
       "    </tr>\n",
       "  </tbody>\n",
       "</table>\n",
       "</div>"
      ],
      "text/plain": [
       "      Outlook Temperature Humidity    Wind Baseball\n",
       "Day                                                \n",
       "D1      Sunny         Hot     High    Weak       No\n",
       "D2      Sunny         Hot     High  Strong       No\n",
       "D3   Overcast         Hot     High    Weak      Yes\n",
       "D4       Rain        Mild     High    Weak      Yes\n",
       "D5       Rain        Cool   Normal    Weak      Yes\n",
       "D6       Rain        Cool   Normal  Strong       No\n",
       "D7   Overcast        Cool   Normal  Strong      Yes\n",
       "D8      Sunny        Mild     High    Weak       No\n",
       "D9      Sunny        Cool   Normal    Weak      Yes\n",
       "D10      Rain        Mild   Normal    Weak      Yes\n",
       "D11     Sunny        Mild   Normal  Strong      Yes\n",
       "D12  Overcast        Mild     High  Strong      Yes\n",
       "D13  Overcast         Hot   Normal    Weak      Yes\n",
       "D14      Rain        Mild     High  Strong       No"
      ]
     },
     "execution_count": 8,
     "metadata": {},
     "output_type": "execute_result"
    }
   ],
   "source": [
    "import pandas as pd\n",
    "\n",
    "from labm8.py import bazelutil\n",
    "\n",
    "df = pd.read_csv(bazelutil.DataPath(\"phd/datasets/baseball.csv\"), index_col=\"Day\")\n",
    "df"
   ]
  },
  {
   "cell_type": "markdown",
   "metadata": {},
   "source": [
    "## Marginal Probabilities"
   ]
  },
  {
   "cell_type": "code",
   "execution_count": 50,
   "metadata": {},
   "outputs": [
    {
     "name": "stdout",
     "output_type": "stream",
     "text": [
      "P(Sunny)        = 35.714%\n",
      "P(Overcast)     = 28.571%\n",
      "P(Rain)         = 35.714%\n",
      "\n",
      "P(Windy)        = 42.857%\n",
      "P(Calm)         = 57.143%\n"
     ]
    }
   ],
   "source": [
    "counts = df.groupby([\"Outlook\"]).count().T.mean()\n",
    "\n",
    "pSunny = counts[\"Sunny\"] / counts.sum()\n",
    "pOvercast = counts[\"Overcast\"] / counts.sum()\n",
    "pRain = counts[\"Rain\"] / counts.sum()\n",
    "\n",
    "assert pSunny + pOvercast + pRain == 1\n",
    "\n",
    "counts = df.groupby([\"Wind\"]).count().T.mean()\n",
    "\n",
    "pWindy = counts[\"Strong\"] / counts.sum()\n",
    "pCalm = counts[\"Weak\"] / counts.sum()\n",
    "\n",
    "assert pWindy + pCalm == 1\n",
    "\n",
    "print(f\"\"\"\\\n",
    "P(Sunny)        = {pSunny:.3%}\n",
    "P(Overcast)     = {pOvercast:.3%}\n",
    "P(Rain)         = {pRain:.3%}\n",
    "\n",
    "P(Windy)        = {pWindy:.3%}\n",
    "P(Calm)         = {pCalm:.3%}\\\n",
    "\"\"\")"
   ]
  },
  {
   "cell_type": "markdown",
   "metadata": {},
   "source": [
    "## Conditional Probabilities"
   ]
  },
  {
   "cell_type": "code",
   "execution_count": 57,
   "metadata": {},
   "outputs": [
    {
     "name": "stdout",
     "output_type": "stream",
     "text": [
      "P(Sunny | Calm) = 37.500%\n"
     ]
    }
   ],
   "source": [
    "pSunnyJointCalm = len(df[(df[\"Wind\"] == \"Weak\") & (df[\"Outlook\"] == \"Sunny\")]) / len(df[df[\"Wind\"] == \"Weak\"])\n",
    "\n",
    "print(f\"\"\"\\\n",
    "P(Sunny | Calm) = {pSunnyJointCalm:.3%}\\\n",
    "\"\"\")"
   ]
  },
  {
   "cell_type": "markdown",
   "metadata": {},
   "source": [
    "## Joint Probabilities"
   ]
  },
  {
   "cell_type": "code",
   "execution_count": 61,
   "metadata": {},
   "outputs": [
    {
     "name": "stdout",
     "output_type": "stream",
     "text": [
      "P(Sunny ∩ Calm) = 21.429%\n",
      "\n",
      "P(Sunny | Calm) = P(Sunny ∩ Calmn) / P(Calmn) = 37.500%\n",
      "\n"
     ]
    }
   ],
   "source": [
    "pSunnyAndCalm = pWindy * pCalm\n",
    "print(f\"\"\"\\\n",
    "P(Sunny ∩ Calm) = {pSunnyJointCalm * pCalm:.3%}\n",
    "\n",
    "P(Sunny | Calm) = P(Sunny ∩ Calmn) / P(Calmn) = {(pSunnyJointCalm * pCalm) / pCalm:.3%}\n",
    "\"\"\")"
   ]
  }
 ],
 "metadata": {
  "kernelspec": {
   "display_name": "Python 3",
   "language": "python",
   "name": "python3"
  },
  "language_info": {
   "codemirror_mode": {
    "name": "ipython",
    "version": 3
   },
   "file_extension": ".py",
   "mimetype": "text/x-python",
   "name": "python",
   "nbconvert_exporter": "python",
   "pygments_lexer": "ipython3",
   "version": "3.7.3"
  }
 },
 "nbformat": 4,
 "nbformat_minor": 2
}
